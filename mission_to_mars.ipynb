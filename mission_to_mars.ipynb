{
 "cells": [
  {
   "cell_type": "code",
   "execution_count": 39,
   "metadata": {},
   "outputs": [],
   "source": [
    "#Dependencies\n",
    "from bs4 import BeautifulSoup\n",
    "from splinter import Browser\n",
    "import requests\n",
    "import pymongo\n",
    "import pandas\n"
   ]
  },
  {
   "cell_type": "code",
   "execution_count": 40,
   "metadata": {},
   "outputs": [],
   "source": [
    "executable_path = {'executable_path': 'chromedriver.exe'}\n",
    "browser = Browser('chrome', **executable_path, headless=False)"
   ]
  },
  {
   "cell_type": "code",
   "execution_count": 41,
   "metadata": {},
   "outputs": [],
   "source": [
    "# URL of page to be scraped\n",
    "url = 'https://mars.nasa.gov/news/'\n",
    "browser.visit(url)"
   ]
  },
  {
   "cell_type": "code",
   "execution_count": 63,
   "metadata": {},
   "outputs": [
    {
     "name": "stdout",
     "output_type": "stream",
     "text": [
      "NASA's Mars InSight Flexes Its Arm Now unstowed, the spacecraft's robotic arm will point a camera located on its elbow and take images of the surroundings.\n",
      "Mars New Home 'a Large Sandbox' With InSight safely on the surface of Mars, the mission team is busy learning more about the spacecraft's landing site.\n",
      "NASA Hears MarCO CubeSats Loud and Clear from Mars  A pair of tiny, experimental spacecraft fulfilled their mission yesterday, relaying back near-real-time data during InSight's landing.\n",
      "InSight Is Catching Rays on Mars The lander has sent data indicating its solar panels are open and receiving sunlight to power its surface operations.\n",
      "NASA InSight Lander Arrives on Martian Surface  The touchdown marks the eighth time NASA has successfully landed a spacecraft on Mars.\n",
      "Landing Day for InSight NASA's InSight spacecraft is on target for Mars landing at around noon PST today.\n",
      "NASA InSight Landing on Mars: Milestones On Nov. 26, NASA's InSight spacecraft will blaze through the Martian atmosphere and set a lander gently on the surface in less time than it takes to cook a hard-boiled egg.\n",
      "NASA InSight Team on Course for Mars Touchdown NASA's Mars InSight spacecraft is on track for a soft touchdown on the surface of the Red Planet on Nov. 26.\n",
      "What Two Planetary Siblings Can Teach Us About Life In studying Mars, NASA's InSight will reveal what makes one planet more or less suitable for life than another.\n",
      "NASA Announces Landing Site for Mars 2020 Rover After a five-year search, NASA has chosen Jezero Crater as the landing site for its upcoming Mars 2020 rover mission.\n",
      "NASA to Host Media Call on Next Mars Landing Site NASA will host a media teleconference at 9 a.m. PST (noon EST) Monday, Nov. 19, to provide details about the Mars 2020 rover’s landing site on the Red Planet.\n",
      "How NASA Will Know When InSight Touches Down On Nov. 26, engineers will look for a combination of signals to determine whether the next spacecraft to Mars lands safely.\n",
      "NASA Brings Mars Landing to Viewers Everywhere NASA's InSight lander is scheduled to touch down on the Red Planet at approximately noon PST  on Nov. 26, with a new suite of instruments to probe below the Martian surface.\n",
      "Curiosity on the Move Again NASA's Mars Curiosity rover drove about 197 feet over the weekend to a site called Lake Orcadie, pushing its total odometry to over 12 miles.\n",
      "The Mars InSight Landing Site Is Just Plain Perfect If the InSight landing zone were ice cream, it would be vanilla.\n",
      "Five Things to Know About InSight's Mars Landing NASA engineers will be holding their breath when their spacecraft heads into Mars' atmosphere on Nov. 26.\n",
      "NASA Launches a New Podcast to Mars NASA's new eight-episode series 'On a Mission' follows the InSight spacecraft on its journey to Mars and details the extraordinary challenges of landing on the Red Planet.\n",
      "Update on Opportunity Rover Recovery Efforts After a review of the progress of the listening campaign, NASA will continue its current strategy for attempting to make contact with the Opportunity rover for the foreseeable future.\n",
      "Third ASPIRE Test Confirms Mars 2020 Parachute a Go The supersonic parachute that will handle the heaviest payload yet to the Red Planet – Mars 2020 rover – passes its final sounding rocket test with flying colors.\n",
      "NASA to Host Briefing on November Mars InSight Landing A briefing on NASA's upcoming InSight Mars landing will air on Wed. Oct. 31 at 1:30 p.m. EDT (10:30 a.m. PDT) on NASA TV, the agency's website and NASA InSight Facebook Page.\n",
      "NASA's InSight Will Study Mars While Standing Still The lander's unique science can teach us how planets are born.\n",
      "NASA's First Image of Mars from a CubeSat The image was produced by one of the twin briefcase-sized MarCO spacecraft, the first CubeSats to fly to deep space.\n",
      "The 'Claw Game' on Mars: NASA InSight Plays to Win NASA's InSight lander will be the first mission to use a robotic arm to grasp instruments from the spacecraft and place them on the surface of another planet. \n",
      "Scientists to Debate Landing Site for Next Mars Rover Hundreds of scientists and Mars-exploration enthusiasts gather this week to present, discuss and deliberate the future landing site for NASA's next Red Planet. \n",
      "Mars Virtual Reality Software Wins NASA Award A mixed-reality software that allows scientists and engineers to virtually walk on Mars has received NASA's 2018 Software of the Year Award.\n",
      "Painting Cars for Mars What does NASA do to get a rover ready for Mars? JPL's paint shop does a thousand different paint jobs a year. And while every piece of spacecraft that comes through the shop is important, one headed for the Red Planet adds a little extra oomph.\n",
      "Opportunity Emerges in a Dusty Picture NASA still hasn't heard from the Opportunity rover, but at least the agency can see it again.\n",
      "NASA Seeking Partner in Contest to Name Next Mars Rover NASA has a class assignment for corporations, nonprofits and educational organizations involved in science and space exploration: partner with the agency to inspire future engineers and scientists by sponsoring a contest to name the next rover to venture to the Red Planet.\n",
      "NASA's MAVEN Selfie Marks Four Years in Orbit at Mars NASA’s MAVEN spacecraft celebrates four years in Mars orbit with a selfie.\n",
      "MarCO Makes Space for Small Explorers A pair of NASA CubeSats flying to Mars are opening a new frontier for small spacecraft.\n",
      "Curiosity Surveys a Mystery Under Dusty Skies NASA's Curiosity rover surveyed its surroundings on Mars, producing a 360-degree panorama of its current location on Vera Rubin Ridge.\n",
      "NASA's InSight Has a Thermometer for Mars The mission's heat probe could reveal how the planet's towering volcanoes formed.\n",
      "Digital Creators: Apply for NASA Mars Landing Event Up to 30 multimedia participants will be selected for a special two-day event at JPL culminating in the InSight spacecraft's landing on Mars. Apply by Sept. 3.\n",
      "NASA's InSight Passes Halfway to Mars, Instruments Check In NASA's InSight spacecraft, en route to a Nov. 26 landing on Mars, passed the halfway mark on Aug. 6. All of its instruments have been tested and are working well.\n",
      "Six Things About Opportunity's Recovery Efforts The global dust storm on Mars could soon let in enough sunlight for the Opportunity rover to recharge.\n",
      "Meet the People Behind NASA's InSight Mars Lander A series of NASA videos highlight scientists and engineers leading the next mission to Mars.\n",
      "Mars Terraforming Not Possible Using Present-Day Technology Transforming the inhospitable Martian environment into a place astronauts could explore without life support is not possible without technology well beyond today’s capabilities.\n",
      "Opportunity Hunkers Down During Dust Storm It's the beginning of the end for the planet-encircling dust storm on Mars. But it could still be weeks, or even months, before skies are clear enough for NASA's Opportunity rover to recharge its batteries and phone home. \n",
      "NASA Statement on Possible Subsurface Lake near Martian South Pole A new paper suggests that liquid water may be sitting under a layer of ice at Mars' south pole.\n",
      "JPL's 'Martians' Are Coming to Griffith Observatory On July 30, when Mars and Earth are closer than they've been since 2003, JPL scientists and engineers will be at a free public event at Griffith Observatory in Los Angeles.\n"
     ]
    }
   ],
   "source": [
    "html = browser.html\n",
    "soup = BeautifulSoup(html, 'html.parser')\n",
    "    \n",
    "#news = soup.find_all('div', 'content_title')  #This found the bottom titles too. \n",
    "news_story = soup.find_all('li', 'slide')\n",
    "\n",
    "for story in news_story:\n",
    "    news_title = story.find('div','content_title').text\n",
    "    news_para = story.find('div','article_teaser_body').text\n",
    "    print(news_title, news_para)"
   ]
  },
  {
   "cell_type": "code",
   "execution_count": null,
   "metadata": {},
   "outputs": [],
   "source": [
    "########################\n",
    "#Retrieve the news titles\n",
    "for div in soup.findAll('div', class_='image_and_description_container'):\n",
    "    news_title = (div.find('a').text)\n",
    "    print(news_title)\n"
   ]
  },
  {
   "cell_type": "code",
   "execution_count": null,
   "metadata": {},
   "outputs": [],
   "source": [
    "########################\n",
    "#Retrieve the paragraph text\n",
    "paras = soup.find_all('div', class_='article_teaser_body')\n",
    "for para in paras:\n",
    "    print(para)\n",
    "    "
   ]
  },
  {
   "cell_type": "code",
   "execution_count": null,
   "metadata": {},
   "outputs": [],
   "source": []
  },
  {
   "cell_type": "code",
   "execution_count": null,
   "metadata": {},
   "outputs": [],
   "source": [
    "########################\n",
    "'''#Loop through results to retrieve article title and teaser paragraph\n",
    "for result in results:\n",
    "    print('-----------------------------------')\n",
    "    title = (div.find('a')['href'])\n",
    "    title2 = (div.find('a').contents[0])\n",
    "    \n",
    "    #Dictionary to be inserted into MongoDB\n",
    "    post = {\n",
    "        'title': title\n",
    "    }\n",
    "    \n",
    "    #Insert dictionary into MongoDB as a document\n",
    "    collection.insert_one(post)'''"
   ]
  },
  {
   "cell_type": "code",
   "execution_count": null,
   "metadata": {},
   "outputs": [],
   "source": [
    "########################  "
   ]
  },
  {
   "cell_type": "code",
   "execution_count": null,
   "metadata": {},
   "outputs": [],
   "source": [
    "'''# Display the MongoDB records created above\n",
    "articles = db.articles.find()\n",
    "for article in articles:\n",
    "    print(article)'''"
   ]
  },
  {
   "cell_type": "code",
   "execution_count": null,
   "metadata": {},
   "outputs": [],
   "source": [
    "########################"
   ]
  }
 ],
 "metadata": {
  "kernelspec": {
   "display_name": "Python 3",
   "language": "python",
   "name": "python3"
  },
  "language_info": {
   "codemirror_mode": {
    "name": "ipython",
    "version": 3
   },
   "file_extension": ".py",
   "mimetype": "text/x-python",
   "name": "python",
   "nbconvert_exporter": "python",
   "pygments_lexer": "ipython3",
   "version": "3.6.5"
  }
 },
 "nbformat": 4,
 "nbformat_minor": 2
}
